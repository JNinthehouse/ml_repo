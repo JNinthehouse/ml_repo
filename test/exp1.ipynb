{
 "cells": [
  {
   "cell_type": "code",
   "execution_count": 1,
   "id": "initial_id",
   "metadata": {
    "collapsed": true,
    "ExecuteTime": {
     "end_time": "2023-09-05T04:02:18.883019600Z",
     "start_time": "2023-09-05T04:02:17.649035900Z"
    }
   },
   "outputs": [],
   "source": [
    "from feature_engineering.Pipe import PipeLine,PipeUnion\n",
    "from feature_engineering.data_process import *\n",
    "from feature_engineering.feature_selection import *\n",
    "from feature_engineering.feature_extraction import *\n",
    "import sklearn.datasets as ds\n",
    "import pandas as pd\n",
    "import numpy as np"
   ]
  },
  {
   "cell_type": "code",
   "execution_count": 14,
   "outputs": [],
   "source": [
    "def get_x(path=None):\n",
    "    path = r\"D:\\QQ\\qqchatdata\\295746332\\FileRecv\\第三次模拟\\Molecular_Descriptor.xlsx\" if path is None else path\n",
    "    data = pd.read_excel(path)\n",
    "    data = data.set_index(\"SMILES\")\n",
    "    return data\n",
    "\n",
    "def get_y(path=None):\n",
    "    path = r\"D:\\QQ\\qqchatdata\\295746332\\FileRecv\\第三次模拟\\ERα_activity.xlsx\" if path is None else path\n",
    "    data = pd.read_excel(path)\n",
    "    return data[['pIC50','SMILES']].set_index(\"SMILES\")\n",
    "\n",
    "def get_info(data):\n",
    "    unique_value = data.nunique()\n",
    "    dtypes = data.dtypes.apply(lambda x:x.name)\n",
    "    null = data.isnull().sum(0)\n",
    "    info = pd.concat([unique_value,dtypes,null],axis=1)\n",
    "    info.columns = [\"unique_value\",\"dtypes\",\"null\"]\n",
    "    return info"
   ],
   "metadata": {
    "collapsed": false,
    "ExecuteTime": {
     "end_time": "2023-09-05T04:08:15.456936800Z",
     "start_time": "2023-09-05T04:08:15.445937900Z"
    }
   },
   "id": "a1257f58176e2596"
  },
  {
   "cell_type": "code",
   "execution_count": 4,
   "outputs": [],
   "source": [
    "x = get_x()\n",
    "y = get_y()"
   ],
   "metadata": {
    "collapsed": false
   },
   "id": "28cd95f31a0e27df"
  },
  {
   "cell_type": "code",
   "execution_count": 22,
   "outputs": [
    {
     "data": {
      "text/plain": "1974"
     },
     "execution_count": 22,
     "metadata": {},
     "output_type": "execute_result"
    }
   ],
   "source": [],
   "metadata": {
    "collapsed": false,
    "ExecuteTime": {
     "end_time": "2023-09-05T04:09:17.046427600Z",
     "start_time": "2023-09-05T04:09:17.011421100Z"
    }
   },
   "id": "42db84f1153fc558"
  },
  {
   "cell_type": "code",
   "execution_count": 5,
   "outputs": [
    {
     "data": {
      "text/plain": "nAcid       0.000000\nALogP       1.857900\nALogp2      3.451792\nAMR       148.868200\napol       77.158583\n             ...    \nWTPT-5      0.000000\nWPATH     694.000000\nWPOL       35.000000\nXLogP       2.701000\nZagreb    182.000000\nName: 0, Length: 729, dtype: float64"
     },
     "execution_count": 5,
     "metadata": {},
     "output_type": "execute_result"
    }
   ],
   "source": [
    "x.mode().loc[0]"
   ],
   "metadata": {
    "collapsed": false,
    "ExecuteTime": {
     "end_time": "2023-09-05T04:03:01.549921500Z",
     "start_time": "2023-09-05T04:03:01.359908700Z"
    }
   },
   "id": "8e03b5b76ceec9d7"
  },
  {
   "cell_type": "code",
   "execution_count": 53,
   "outputs": [],
   "source": [
    "pipe1 = PipeLine([DropNA(threshold=0.2)])"
   ],
   "metadata": {
    "collapsed": false,
    "ExecuteTime": {
     "end_time": "2023-09-05T04:33:31.362313900Z",
     "start_time": "2023-09-05T04:33:31.349308800Z"
    }
   },
   "id": "307660b7e7e3012f"
  },
  {
   "cell_type": "code",
   "execution_count": 56,
   "outputs": [],
   "source": [
    "class DtypesSelector(BaseProcess):\n",
    "    def __init__(self,dtypes):\n",
    "        super().__init__()\n",
    "        self.dtypes = dtypes\n",
    "    \n",
    "    def _transform(self,X,y=None):\n",
    "        tmp = X.select_dtypes(include=self.dtypes)\n",
    "        tmp = tmp.astype(dtype=self.dtypes)\n",
    "        return tmp if y is None else (tmp,y)\n",
    "\n",
    "class CateDetectOutlier(BaseProcess):\n",
    "    def __init__(self,threshold=0.01,handle = 'nan'):\n",
    "        assert handle in ['drop','nan'],'handle must be drop or nan'\n",
    "        super().__init__()\n",
    "        self.threshold = threshold\n",
    "        self.handle = handle\n",
    "    \n",
    "    def _transform(self,X,y=None):\n",
    "        if 0<=self.threshold<1:\n",
    "            threshold = int(X.shape[0]*self.threshold)\n",
    "        else:\n",
    "            threshold = self.threshold\n",
    "        for col in list(X.columns):\n",
    "            tmp = X[col].value_counts()\n",
    "            tmp = tmp[tmp<threshold]\n",
    "            match self.handle:\n",
    "                case 'drop':\n",
    "                    X = X[~X[col].isin(tmp.index)]\n",
    "                case 'nan':\n",
    "                    X[col] = X[col].apply(lambda x:np.nan if x in tmp.index else x)\n",
    "                case _:\n",
    "                    raise ValueError(\"handle must be drop or nan\")\n",
    "        return X if y is None else (X,y.loc[X.index])\n",
    "\n",
    "pipe_float = PipeLine([DtypesSelector(dtypes=\"float\"),\n",
    "                       FillNA(method='median'),Scaler(method='robust')])\n",
    "pipe_int = PipeLine([DtypesSelector(dtypes=\"int\"),\n",
    "                     FillNA(method='mode')])\n",
    "pipe_outlier_float = PipeLine([DetectOutlier(method='iqr',handle='nan'),FillNA(method='median')])\n",
    "pipe_outlier_int = PipeLine([CateDetectOutlier(threshold=0.01,handle='nan'),FillNA(method='mode')])\n",
    "pipe_float = pipe_float+pipe_outlier_float\n",
    "pipe_int = pipe_int+pipe_outlier_int\n",
    "pipe2 = PipeUnion([('float_features',pipe_float),('int_features',pipe_int)])\n",
    "pipe3 = PipeLine([('baseline',pipe1),('parallel process',pipe2)])"
   ],
   "metadata": {
    "collapsed": false,
    "ExecuteTime": {
     "end_time": "2023-09-05T04:33:50.243145800Z",
     "start_time": "2023-09-05T04:33:50.228222900Z"
    }
   },
   "id": "19efb2463d35af4d"
  },
  {
   "cell_type": "code",
   "execution_count": 59,
   "outputs": [],
   "source": [
    "x1 = pipe3.fit_transform(x)\n",
    "y1 = y.loc[x1.index]\n",
    "data1 = pd.concat([x1,y1],axis=1)\n",
    "save_path = r\"D:\\QQ\\qqchatdata\\295746332\\FileRecv\\第三次模拟\\preprocessed1.xlsx\"\n",
    "data1.to_excel(save_path)"
   ],
   "metadata": {
    "collapsed": false,
    "ExecuteTime": {
     "end_time": "2023-09-05T04:35:11.810294Z",
     "start_time": "2023-09-05T04:34:47.787464900Z"
    }
   },
   "id": "8fd1dda5d69b0218"
  },
  {
   "cell_type": "code",
   "execution_count": 61,
   "outputs": [
    {
     "data": {
      "text/plain": "PipeLine(steps=[('baseline',\n                 PipeLine(steps=[('dropna', DropNA(threshold=0.2))])),\n                ('parallel process',\n                 PipeUnion(transformer_list=[('float_features',\n                                              PipeLine(steps=[('dtypesselector',\n                                                               DtypesSelector(dtypes='float')),\n                                                              ('fillna-1',\n                                                               FillNA(method='median')),\n                                                              ('scaler',\n                                                               Scaler(cols=['ALogP',\n                                                                            'ALogp2',\n                                                                            'AMR',\n                                                                            'apol',\n                                                                            'ATSc1',\n                                                                            'ATSc2',\n                                                                            'ATSc3',\n                                                                            'ATSc4',\n                                                                            'ATSc5',\n                                                                            'ATSm1',\n                                                                            '...\n       'TopoPSA', 'VABC', 'VAdjMat', 'MW', 'WTPT-1', 'WTPT-2', 'WTPT-3',\n       'WTPT-4', 'WTPT-5', 'XLogP'],\n      dtype='object', length=359),\n                                                                             handle='nan')),\n                                                              ('fillna-2',\n                                                               FillNA(method='median'))])),\n                                             ('int_features',\n                                              PipeLine(steps=[('dtypesselector',\n                                                               DtypesSelector(dtypes='int')),\n                                                              ('fillna-1',\n                                                               FillNA(method='mode')),\n                                                              ('catedetectoutlier',\n                                                               CateDetectOutlier()),\n                                                              ('fillna-2',\n                                                               FillNA(method='mode'))]))]))])",
      "text/html": "<style>#sk-container-id-3 {color: black;}#sk-container-id-3 pre{padding: 0;}#sk-container-id-3 div.sk-toggleable {background-color: white;}#sk-container-id-3 label.sk-toggleable__label {cursor: pointer;display: block;width: 100%;margin-bottom: 0;padding: 0.3em;box-sizing: border-box;text-align: center;}#sk-container-id-3 label.sk-toggleable__label-arrow:before {content: \"▸\";float: left;margin-right: 0.25em;color: #696969;}#sk-container-id-3 label.sk-toggleable__label-arrow:hover:before {color: black;}#sk-container-id-3 div.sk-estimator:hover label.sk-toggleable__label-arrow:before {color: black;}#sk-container-id-3 div.sk-toggleable__content {max-height: 0;max-width: 0;overflow: hidden;text-align: left;background-color: #f0f8ff;}#sk-container-id-3 div.sk-toggleable__content pre {margin: 0.2em;color: black;border-radius: 0.25em;background-color: #f0f8ff;}#sk-container-id-3 input.sk-toggleable__control:checked~div.sk-toggleable__content {max-height: 200px;max-width: 100%;overflow: auto;}#sk-container-id-3 input.sk-toggleable__control:checked~label.sk-toggleable__label-arrow:before {content: \"▾\";}#sk-container-id-3 div.sk-estimator input.sk-toggleable__control:checked~label.sk-toggleable__label {background-color: #d4ebff;}#sk-container-id-3 div.sk-label input.sk-toggleable__control:checked~label.sk-toggleable__label {background-color: #d4ebff;}#sk-container-id-3 input.sk-hidden--visually {border: 0;clip: rect(1px 1px 1px 1px);clip: rect(1px, 1px, 1px, 1px);height: 1px;margin: -1px;overflow: hidden;padding: 0;position: absolute;width: 1px;}#sk-container-id-3 div.sk-estimator {font-family: monospace;background-color: #f0f8ff;border: 1px dotted black;border-radius: 0.25em;box-sizing: border-box;margin-bottom: 0.5em;}#sk-container-id-3 div.sk-estimator:hover {background-color: #d4ebff;}#sk-container-id-3 div.sk-parallel-item::after {content: \"\";width: 100%;border-bottom: 1px solid gray;flex-grow: 1;}#sk-container-id-3 div.sk-label:hover label.sk-toggleable__label {background-color: #d4ebff;}#sk-container-id-3 div.sk-serial::before {content: \"\";position: absolute;border-left: 1px solid gray;box-sizing: border-box;top: 0;bottom: 0;left: 50%;z-index: 0;}#sk-container-id-3 div.sk-serial {display: flex;flex-direction: column;align-items: center;background-color: white;padding-right: 0.2em;padding-left: 0.2em;position: relative;}#sk-container-id-3 div.sk-item {position: relative;z-index: 1;}#sk-container-id-3 div.sk-parallel {display: flex;align-items: stretch;justify-content: center;background-color: white;position: relative;}#sk-container-id-3 div.sk-item::before, #sk-container-id-3 div.sk-parallel-item::before {content: \"\";position: absolute;border-left: 1px solid gray;box-sizing: border-box;top: 0;bottom: 0;left: 50%;z-index: -1;}#sk-container-id-3 div.sk-parallel-item {display: flex;flex-direction: column;z-index: 1;position: relative;background-color: white;}#sk-container-id-3 div.sk-parallel-item:first-child::after {align-self: flex-end;width: 50%;}#sk-container-id-3 div.sk-parallel-item:last-child::after {align-self: flex-start;width: 50%;}#sk-container-id-3 div.sk-parallel-item:only-child::after {width: 0;}#sk-container-id-3 div.sk-dashed-wrapped {border: 1px dashed gray;margin: 0 0.4em 0.5em 0.4em;box-sizing: border-box;padding-bottom: 0.4em;background-color: white;}#sk-container-id-3 div.sk-label label {font-family: monospace;font-weight: bold;display: inline-block;line-height: 1.2em;}#sk-container-id-3 div.sk-label-container {text-align: center;}#sk-container-id-3 div.sk-container {/* jupyter's `normalize.less` sets `[hidden] { display: none; }` but bootstrap.min.css set `[hidden] { display: none !important; }` so we also need the `!important` here to be able to override the default hidden behavior on the sphinx rendered scikit-learn.org. See: https://github.com/scikit-learn/scikit-learn/issues/21755 */display: inline-block !important;position: relative;}#sk-container-id-3 div.sk-text-repr-fallback {display: none;}</style><div id=\"sk-container-id-3\" class=\"sk-top-container\"><div class=\"sk-text-repr-fallback\"><pre>PipeLine(steps=[(&#x27;baseline&#x27;,\n                 PipeLine(steps=[(&#x27;dropna&#x27;, DropNA(threshold=0.2))])),\n                (&#x27;parallel process&#x27;,\n                 PipeUnion(transformer_list=[(&#x27;float_features&#x27;,\n                                              PipeLine(steps=[(&#x27;dtypesselector&#x27;,\n                                                               DtypesSelector(dtypes=&#x27;float&#x27;)),\n                                                              (&#x27;fillna-1&#x27;,\n                                                               FillNA(method=&#x27;median&#x27;)),\n                                                              (&#x27;scaler&#x27;,\n                                                               Scaler(cols=[&#x27;ALogP&#x27;,\n                                                                            &#x27;ALogp2&#x27;,\n                                                                            &#x27;AMR&#x27;,\n                                                                            &#x27;apol&#x27;,\n                                                                            &#x27;ATSc1&#x27;,\n                                                                            &#x27;ATSc2&#x27;,\n                                                                            &#x27;ATSc3&#x27;,\n                                                                            &#x27;ATSc4&#x27;,\n                                                                            &#x27;ATSc5&#x27;,\n                                                                            &#x27;ATSm1&#x27;,\n                                                                            &#x27;...\n       &#x27;TopoPSA&#x27;, &#x27;VABC&#x27;, &#x27;VAdjMat&#x27;, &#x27;MW&#x27;, &#x27;WTPT-1&#x27;, &#x27;WTPT-2&#x27;, &#x27;WTPT-3&#x27;,\n       &#x27;WTPT-4&#x27;, &#x27;WTPT-5&#x27;, &#x27;XLogP&#x27;],\n      dtype=&#x27;object&#x27;, length=359),\n                                                                             handle=&#x27;nan&#x27;)),\n                                                              (&#x27;fillna-2&#x27;,\n                                                               FillNA(method=&#x27;median&#x27;))])),\n                                             (&#x27;int_features&#x27;,\n                                              PipeLine(steps=[(&#x27;dtypesselector&#x27;,\n                                                               DtypesSelector(dtypes=&#x27;int&#x27;)),\n                                                              (&#x27;fillna-1&#x27;,\n                                                               FillNA(method=&#x27;mode&#x27;)),\n                                                              (&#x27;catedetectoutlier&#x27;,\n                                                               CateDetectOutlier()),\n                                                              (&#x27;fillna-2&#x27;,\n                                                               FillNA(method=&#x27;mode&#x27;))]))]))])</pre><b>In a Jupyter environment, please rerun this cell to show the HTML representation or trust the notebook. <br />On GitHub, the HTML representation is unable to render, please try loading this page with nbviewer.org.</b></div><div class=\"sk-container\" hidden><div class=\"sk-item sk-dashed-wrapped\"><div class=\"sk-label-container\"><div class=\"sk-label sk-toggleable\"><input class=\"sk-toggleable__control sk-hidden--visually\" id=\"sk-estimator-id-28\" type=\"checkbox\" ><label for=\"sk-estimator-id-28\" class=\"sk-toggleable__label sk-toggleable__label-arrow\">PipeLine</label><div class=\"sk-toggleable__content\"><pre>PipeLine(steps=[(&#x27;baseline&#x27;,\n                 PipeLine(steps=[(&#x27;dropna&#x27;, DropNA(threshold=0.2))])),\n                (&#x27;parallel process&#x27;,\n                 PipeUnion(transformer_list=[(&#x27;float_features&#x27;,\n                                              PipeLine(steps=[(&#x27;dtypesselector&#x27;,\n                                                               DtypesSelector(dtypes=&#x27;float&#x27;)),\n                                                              (&#x27;fillna-1&#x27;,\n                                                               FillNA(method=&#x27;median&#x27;)),\n                                                              (&#x27;scaler&#x27;,\n                                                               Scaler(cols=[&#x27;ALogP&#x27;,\n                                                                            &#x27;ALogp2&#x27;,\n                                                                            &#x27;AMR&#x27;,\n                                                                            &#x27;apol&#x27;,\n                                                                            &#x27;ATSc1&#x27;,\n                                                                            &#x27;ATSc2&#x27;,\n                                                                            &#x27;ATSc3&#x27;,\n                                                                            &#x27;ATSc4&#x27;,\n                                                                            &#x27;ATSc5&#x27;,\n                                                                            &#x27;ATSm1&#x27;,\n                                                                            &#x27;...\n       &#x27;TopoPSA&#x27;, &#x27;VABC&#x27;, &#x27;VAdjMat&#x27;, &#x27;MW&#x27;, &#x27;WTPT-1&#x27;, &#x27;WTPT-2&#x27;, &#x27;WTPT-3&#x27;,\n       &#x27;WTPT-4&#x27;, &#x27;WTPT-5&#x27;, &#x27;XLogP&#x27;],\n      dtype=&#x27;object&#x27;, length=359),\n                                                                             handle=&#x27;nan&#x27;)),\n                                                              (&#x27;fillna-2&#x27;,\n                                                               FillNA(method=&#x27;median&#x27;))])),\n                                             (&#x27;int_features&#x27;,\n                                              PipeLine(steps=[(&#x27;dtypesselector&#x27;,\n                                                               DtypesSelector(dtypes=&#x27;int&#x27;)),\n                                                              (&#x27;fillna-1&#x27;,\n                                                               FillNA(method=&#x27;mode&#x27;)),\n                                                              (&#x27;catedetectoutlier&#x27;,\n                                                               CateDetectOutlier()),\n                                                              (&#x27;fillna-2&#x27;,\n                                                               FillNA(method=&#x27;mode&#x27;))]))]))])</pre></div></div></div><div class=\"sk-serial\"><div class=\"sk-item\"><div class=\"sk-label-container\"><div class=\"sk-label sk-toggleable\"><input class=\"sk-toggleable__control sk-hidden--visually\" id=\"sk-estimator-id-29\" type=\"checkbox\" ><label for=\"sk-estimator-id-29\" class=\"sk-toggleable__label sk-toggleable__label-arrow\">baseline: PipeLine</label><div class=\"sk-toggleable__content\"><pre>PipeLine(steps=[(&#x27;dropna&#x27;, DropNA(threshold=0.2))])</pre></div></div></div><div class=\"sk-serial\"><div class=\"sk-item\"><div class=\"sk-estimator sk-toggleable\"><input class=\"sk-toggleable__control sk-hidden--visually\" id=\"sk-estimator-id-30\" type=\"checkbox\" ><label for=\"sk-estimator-id-30\" class=\"sk-toggleable__label sk-toggleable__label-arrow\">DropNA</label><div class=\"sk-toggleable__content\"><pre>DropNA(threshold=0.2)</pre></div></div></div></div></div><div class=\"sk-item sk-dashed-wrapped\"><div class=\"sk-label-container\"><div class=\"sk-label sk-toggleable\"><input class=\"sk-toggleable__control sk-hidden--visually\" id=\"sk-estimator-id-31\" type=\"checkbox\" ><label for=\"sk-estimator-id-31\" class=\"sk-toggleable__label sk-toggleable__label-arrow\">parallel process: PipeUnion</label><div class=\"sk-toggleable__content\"><pre>PipeUnion(transformer_list=[(&#x27;float_features&#x27;,\n                             PipeLine(steps=[(&#x27;dtypesselector&#x27;,\n                                              DtypesSelector(dtypes=&#x27;float&#x27;)),\n                                             (&#x27;fillna-1&#x27;,\n                                              FillNA(method=&#x27;median&#x27;)),\n                                             (&#x27;scaler&#x27;,\n                                              Scaler(cols=[&#x27;ALogP&#x27;, &#x27;ALogp2&#x27;,\n                                                           &#x27;AMR&#x27;, &#x27;apol&#x27;,\n                                                           &#x27;ATSc1&#x27;, &#x27;ATSc2&#x27;,\n                                                           &#x27;ATSc3&#x27;, &#x27;ATSc4&#x27;,\n                                                           &#x27;ATSc5&#x27;, &#x27;ATSm1&#x27;,\n                                                           &#x27;ATSm2&#x27;, &#x27;ATSm3&#x27;,\n                                                           &#x27;ATSm4&#x27;, &#x27;ATSm5&#x27;,\n                                                           &#x27;ATSp1&#x27;, &#x27;ATSp2&#x27;,\n                                                           &#x27;ATSp3&#x27;, &#x27;ATSp4&#x27;,\n                                                           &#x27;ATSp5&#x27;, &#x27;BCUTw-1l&#x27;,\n                                                           &#x27;BCUTw-1h&#x27;,\n                                                           &#x27;BCUTc...\n       &#x27;TopoPSA&#x27;, &#x27;VABC&#x27;, &#x27;VAdjMat&#x27;, &#x27;MW&#x27;, &#x27;WTPT-1&#x27;, &#x27;WTPT-2&#x27;, &#x27;WTPT-3&#x27;,\n       &#x27;WTPT-4&#x27;, &#x27;WTPT-5&#x27;, &#x27;XLogP&#x27;],\n      dtype=&#x27;object&#x27;, length=359),\n                                                            handle=&#x27;nan&#x27;)),\n                                             (&#x27;fillna-2&#x27;,\n                                              FillNA(method=&#x27;median&#x27;))])),\n                            (&#x27;int_features&#x27;,\n                             PipeLine(steps=[(&#x27;dtypesselector&#x27;,\n                                              DtypesSelector(dtypes=&#x27;int&#x27;)),\n                                             (&#x27;fillna-1&#x27;,\n                                              FillNA(method=&#x27;mode&#x27;)),\n                                             (&#x27;catedetectoutlier&#x27;,\n                                              CateDetectOutlier()),\n                                             (&#x27;fillna-2&#x27;,\n                                              FillNA(method=&#x27;mode&#x27;))]))])</pre></div></div></div><div class=\"sk-parallel\"><div class=\"sk-parallel-item\"><div class=\"sk-item\"><div class=\"sk-label-container\"><div class=\"sk-label sk-toggleable\"><label>float_features</label></div></div><div class=\"sk-serial\"><div class=\"sk-item\"><div class=\"sk-serial\"><div class=\"sk-item\"><div class=\"sk-estimator sk-toggleable\"><input class=\"sk-toggleable__control sk-hidden--visually\" id=\"sk-estimator-id-32\" type=\"checkbox\" ><label for=\"sk-estimator-id-32\" class=\"sk-toggleable__label sk-toggleable__label-arrow\">DtypesSelector</label><div class=\"sk-toggleable__content\"><pre>DtypesSelector(dtypes=&#x27;float&#x27;)</pre></div></div></div><div class=\"sk-item\"><div class=\"sk-estimator sk-toggleable\"><input class=\"sk-toggleable__control sk-hidden--visually\" id=\"sk-estimator-id-33\" type=\"checkbox\" ><label for=\"sk-estimator-id-33\" class=\"sk-toggleable__label sk-toggleable__label-arrow\">FillNA</label><div class=\"sk-toggleable__content\"><pre>FillNA(method=&#x27;median&#x27;)</pre></div></div></div><div class=\"sk-item\"><div class=\"sk-estimator sk-toggleable\"><input class=\"sk-toggleable__control sk-hidden--visually\" id=\"sk-estimator-id-34\" type=\"checkbox\" ><label for=\"sk-estimator-id-34\" class=\"sk-toggleable__label sk-toggleable__label-arrow\">Scaler</label><div class=\"sk-toggleable__content\"><pre>Scaler(cols=[&#x27;ALogP&#x27;, &#x27;ALogp2&#x27;, &#x27;AMR&#x27;, &#x27;apol&#x27;, &#x27;ATSc1&#x27;, &#x27;ATSc2&#x27;, &#x27;ATSc3&#x27;,\n             &#x27;ATSc4&#x27;, &#x27;ATSc5&#x27;, &#x27;ATSm1&#x27;, &#x27;ATSm2&#x27;, &#x27;ATSm3&#x27;, &#x27;ATSm4&#x27;, &#x27;ATSm5&#x27;,\n             &#x27;ATSp1&#x27;, &#x27;ATSp2&#x27;, &#x27;ATSp3&#x27;, &#x27;ATSp4&#x27;, &#x27;ATSp5&#x27;, &#x27;BCUTw-1l&#x27;,\n             &#x27;BCUTw-1h&#x27;, &#x27;BCUTc-1l&#x27;, &#x27;BCUTc-1h&#x27;, &#x27;BCUTp-1l&#x27;, &#x27;BCUTp-1h&#x27;, &#x27;bpol&#x27;,\n             &#x27;SCH-3&#x27;, &#x27;SCH-4&#x27;, &#x27;SCH-5&#x27;, &#x27;SCH-6&#x27;, ...])</pre></div></div></div><div class=\"sk-item\"><div class=\"sk-estimator sk-toggleable\"><input class=\"sk-toggleable__control sk-hidden--visually\" id=\"sk-estimator-id-35\" type=\"checkbox\" ><label for=\"sk-estimator-id-35\" class=\"sk-toggleable__label sk-toggleable__label-arrow\">DetectOutlier</label><div class=\"sk-toggleable__content\"><pre>DetectOutlier(cols=Index([&#x27;ALogP&#x27;, &#x27;ALogp2&#x27;, &#x27;AMR&#x27;, &#x27;apol&#x27;, &#x27;ATSc1&#x27;, &#x27;ATSc2&#x27;, &#x27;ATSc3&#x27;, &#x27;ATSc4&#x27;,\n       &#x27;ATSc5&#x27;, &#x27;ATSm1&#x27;,\n       ...\n       &#x27;TopoPSA&#x27;, &#x27;VABC&#x27;, &#x27;VAdjMat&#x27;, &#x27;MW&#x27;, &#x27;WTPT-1&#x27;, &#x27;WTPT-2&#x27;, &#x27;WTPT-3&#x27;,\n       &#x27;WTPT-4&#x27;, &#x27;WTPT-5&#x27;, &#x27;XLogP&#x27;],\n      dtype=&#x27;object&#x27;, length=359),\n              handle=&#x27;nan&#x27;)</pre></div></div></div><div class=\"sk-item\"><div class=\"sk-estimator sk-toggleable\"><input class=\"sk-toggleable__control sk-hidden--visually\" id=\"sk-estimator-id-36\" type=\"checkbox\" ><label for=\"sk-estimator-id-36\" class=\"sk-toggleable__label sk-toggleable__label-arrow\">FillNA</label><div class=\"sk-toggleable__content\"><pre>FillNA(method=&#x27;median&#x27;)</pre></div></div></div></div></div></div></div></div><div class=\"sk-parallel-item\"><div class=\"sk-item\"><div class=\"sk-label-container\"><div class=\"sk-label sk-toggleable\"><label>int_features</label></div></div><div class=\"sk-serial\"><div class=\"sk-item\"><div class=\"sk-serial\"><div class=\"sk-item\"><div class=\"sk-estimator sk-toggleable\"><input class=\"sk-toggleable__control sk-hidden--visually\" id=\"sk-estimator-id-37\" type=\"checkbox\" ><label for=\"sk-estimator-id-37\" class=\"sk-toggleable__label sk-toggleable__label-arrow\">DtypesSelector</label><div class=\"sk-toggleable__content\"><pre>DtypesSelector(dtypes=&#x27;int&#x27;)</pre></div></div></div><div class=\"sk-item\"><div class=\"sk-estimator sk-toggleable\"><input class=\"sk-toggleable__control sk-hidden--visually\" id=\"sk-estimator-id-38\" type=\"checkbox\" ><label for=\"sk-estimator-id-38\" class=\"sk-toggleable__label sk-toggleable__label-arrow\">FillNA</label><div class=\"sk-toggleable__content\"><pre>FillNA(method=&#x27;mode&#x27;)</pre></div></div></div><div class=\"sk-item\"><div class=\"sk-estimator sk-toggleable\"><input class=\"sk-toggleable__control sk-hidden--visually\" id=\"sk-estimator-id-39\" type=\"checkbox\" ><label for=\"sk-estimator-id-39\" class=\"sk-toggleable__label sk-toggleable__label-arrow\">CateDetectOutlier</label><div class=\"sk-toggleable__content\"><pre>CateDetectOutlier()</pre></div></div></div><div class=\"sk-item\"><div class=\"sk-estimator sk-toggleable\"><input class=\"sk-toggleable__control sk-hidden--visually\" id=\"sk-estimator-id-40\" type=\"checkbox\" ><label for=\"sk-estimator-id-40\" class=\"sk-toggleable__label sk-toggleable__label-arrow\">FillNA</label><div class=\"sk-toggleable__content\"><pre>FillNA(method=&#x27;mode&#x27;)</pre></div></div></div></div></div></div></div></div></div></div></div></div></div></div>"
     },
     "execution_count": 61,
     "metadata": {},
     "output_type": "execute_result"
    }
   ],
   "source": [
    "pipe3"
   ],
   "metadata": {
    "collapsed": false,
    "ExecuteTime": {
     "end_time": "2023-09-05T04:35:42.492763200Z",
     "start_time": "2023-09-05T04:35:42.061611700Z"
    }
   },
   "id": "84d14d14ac2988ef"
  }
 ],
 "metadata": {
  "kernelspec": {
   "name": "ml_dev",
   "language": "python",
   "display_name": "ml_dev"
  },
  "language_info": {
   "codemirror_mode": {
    "name": "ipython",
    "version": 2
   },
   "file_extension": ".py",
   "mimetype": "text/x-python",
   "name": "python",
   "nbconvert_exporter": "python",
   "pygments_lexer": "ipython2",
   "version": "2.7.6"
  }
 },
 "nbformat": 4,
 "nbformat_minor": 5
}
